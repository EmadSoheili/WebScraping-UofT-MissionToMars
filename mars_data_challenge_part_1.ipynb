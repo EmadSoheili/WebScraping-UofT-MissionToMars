{
 "cells": [
  {
   "cell_type": "code",
   "execution_count": 1,
   "id": "22bb8140",
   "metadata": {},
   "outputs": [],
   "source": [
    "# Import dependencies\n",
    "from splinter import Browser\n",
    "from bs4 import BeautifulSoup as soup\n",
    "from webdriver_manager.chrome import ChromeDriverManager\n",
    "import selenium\n",
    "import pandas as pd\n",
    "import os"
   ]
  },
  {
   "cell_type": "code",
   "execution_count": 2,
   "id": "358bf9e2",
   "metadata": {},
   "outputs": [],
   "source": [
    "# Set up Splinter\n",
    "executable_path = {'executable_path': ChromeDriverManager().install()}\n",
    "browser = Browser('chrome', **executable_path, headless=False)"
   ]
  },
  {
   "cell_type": "code",
   "execution_count": 3,
   "id": "f63c96c9",
   "metadata": {},
   "outputs": [],
   "source": [
    "# Visit the Mars Facts site\n",
    "url = 'https://redplanetscience.com/'\n",
    "browser.visit(url)\n",
    "\n",
    "html = browser.html\n",
    "html_soup = soup(html, 'html.parser')"
   ]
  },
  {
   "cell_type": "code",
   "execution_count": 4,
   "id": "f7de0e6d",
   "metadata": {},
   "outputs": [],
   "source": [
    "# Extract HTML codes containing news' titles\n",
    "html_titles = html_soup.select('div.content_title')"
   ]
  },
  {
   "cell_type": "code",
   "execution_count": 5,
   "id": "304bde69",
   "metadata": {},
   "outputs": [],
   "source": [
    "# Extract HTML codes containing news' previews\n",
    "html_previews = html_soup.select('div.article_teaser_body')"
   ]
  },
  {
   "cell_type": "code",
   "execution_count": 15,
   "id": "39e040a3",
   "metadata": {},
   "outputs": [
    {
     "name": "stdout",
     "output_type": "stream",
     "text": [
      "{'Title': \"All About the Laser (and Microphone) Atop Mars 2020, NASA's Next Rover\", 'Preview': 'SuperCam is a rock-vaporizing instrument that will help scientists hunt for Mars fossils.'}\n",
      "    \n",
      "{'Title': \"NASA's Perseverance Rover Is Midway to Mars \", 'Preview': \"Sometimes half measures can be a good thing – especially on a journey this long. The agency's latest rover only has about 146 million miles left to reach its destination.\"}\n",
      "    \n",
      "{'Title': 'The Man Who Wanted to Fly on Mars', 'Preview': \"The Mars Helicopter is riding to the Red Planet this summer with NASA's Perseverance rover. The helicopter's chief engineer, Bob Balaram, shares the saga of how it came into being.\"}\n",
      "    \n",
      "{'Title': 'NASA Invites Public to Share Excitement of Mars 2020 Perseverance Rover Launch', 'Preview': 'There are lots of ways to participate in the historic event, which is targeted for July 30.'}\n",
      "    \n",
      "{'Title': \"Common Questions about InSight's 'Mole'\", 'Preview': 'The following Q&As with members of the team answer some of the most common questions about the burrowing device, part of a science instrument called the Heat Flow and Physical Properties Package (HP3).'}\n",
      "    \n",
      "{'Title': 'Join NASA for the Launch of the Mars 2020 Perseverance Rover', 'Preview': 'No matter where you live, choose from a menu of activities to join NASA as we \"Countdown to Mars\" and launch the Perseverance rover to the Red Planet.'}\n",
      "    \n",
      "{'Title': \"NASA's Perseverance Rover Goes Through Trials by Fire, Ice, Light and Sound\", 'Preview': \"The agency's new Mars rover is put through a series of tests in vacuum chambers, acoustic chambers and more to get ready for the Red Planet.\"}\n",
      "    \n",
      "{'Title': 'Space History Is Made in This NASA Robot Factory', 'Preview': \"From rockets to rovers, JPL's Spacecraft Assembly Facility has been at the center of robotic spaceflight. Here's a closer look at what makes it so special.\"}\n",
      "    \n",
      "{'Title': \"InSight's 'Mole' Team Peers into the Pit\", 'Preview': 'Efforts to save the heat probe continue.'}\n",
      "    \n",
      "{'Title': \"From JPL's Mailroom to Mars and Beyond\", 'Preview': 'Bill Allen has thrived as the mechanical systems design lead for three Mars rover missions, but he got his start as a teenager sorting letters for the NASA center.'}\n",
      "    \n",
      "{'Title': \"NASA's Perseverance Rover Attached to Atlas V Rocket\", 'Preview': 'Ready for its launch later in the month, the Mars-bound rover will touch terra firma no more.'}\n",
      "    \n",
      "{'Title': \"NASA's Mars 2020 Will Hunt for Microscopic Fossils\", 'Preview': \"A new paper identifies a ring of minerals at the rover's landing site that are ideal for fossilizing microbial life.\"}\n",
      "    \n",
      "{'Title': \"NASA's Mars 2020 Comes Full Circle\", 'Preview': \"Aiming to pinpoint the Martian vehicle's center of gravity, engineers took NASA's 2,300-pound Mars 2020 rover for a spin in the clean room at JPL.\"}\n",
      "    \n",
      "{'Title': \"How NASA's Mars Helicopter Will Reach the Red Planet's Surface\", 'Preview': 'The small craft will seek to prove that powered, controlled flight is possible on another planet. But just getting it onto the surface of Mars will take a whole lot of ingenuity.'}\n",
      "    \n",
      "{'Title': \"NASA's Curiosity Takes Selfie With 'Mary Anning' on the Red Planet\", 'Preview': 'The Mars rover has drilled three samples of rock in this clay-enriched region since arriving in July.'}\n",
      "    \n"
     ]
    }
   ],
   "source": [
    "# Create a dictionaries and list of dictionaries containing titles and previews\n",
    "news_list = []\n",
    "for i in range(len(html_titles)):\n",
    "    temp_dict = {}\n",
    "    temp_dict = {'Title':html_titles[i].text, 'Preview':html_previews[i].text}\n",
    "    print(f'''{temp_dict}\n",
    "    ''')\n",
    "    news_list.append(temp_dict)"
   ]
  },
  {
   "cell_type": "code",
   "execution_count": 7,
   "id": "f9cd05be",
   "metadata": {},
   "outputs": [
    {
     "data": {
      "text/plain": [
       "[{'Title': \"All About the Laser (and Microphone) Atop Mars 2020, NASA's Next Rover\",\n",
       "  'Preview': 'SuperCam is a rock-vaporizing instrument that will help scientists hunt for Mars fossils.'},\n",
       " {'Title': \"NASA's Perseverance Rover Is Midway to Mars \",\n",
       "  'Preview': \"Sometimes half measures can be a good thing – especially on a journey this long. The agency's latest rover only has about 146 million miles left to reach its destination.\"},\n",
       " {'Title': 'The Man Who Wanted to Fly on Mars',\n",
       "  'Preview': \"The Mars Helicopter is riding to the Red Planet this summer with NASA's Perseverance rover. The helicopter's chief engineer, Bob Balaram, shares the saga of how it came into being.\"},\n",
       " {'Title': 'NASA Invites Public to Share Excitement of Mars 2020 Perseverance Rover Launch',\n",
       "  'Preview': 'There are lots of ways to participate in the historic event, which is targeted for July 30.'},\n",
       " {'Title': \"Common Questions about InSight's 'Mole'\",\n",
       "  'Preview': 'The following Q&As with members of the team answer some of the most common questions about the burrowing device, part of a science instrument called the Heat Flow and Physical Properties Package (HP3).'},\n",
       " {'Title': 'Join NASA for the Launch of the Mars 2020 Perseverance Rover',\n",
       "  'Preview': 'No matter where you live, choose from a menu of activities to join NASA as we \"Countdown to Mars\" and launch the Perseverance rover to the Red Planet.'},\n",
       " {'Title': \"NASA's Perseverance Rover Goes Through Trials by Fire, Ice, Light and Sound\",\n",
       "  'Preview': \"The agency's new Mars rover is put through a series of tests in vacuum chambers, acoustic chambers and more to get ready for the Red Planet.\"},\n",
       " {'Title': 'Space History Is Made in This NASA Robot Factory',\n",
       "  'Preview': \"From rockets to rovers, JPL's Spacecraft Assembly Facility has been at the center of robotic spaceflight. Here's a closer look at what makes it so special.\"},\n",
       " {'Title': \"InSight's 'Mole' Team Peers into the Pit\",\n",
       "  'Preview': 'Efforts to save the heat probe continue.'},\n",
       " {'Title': \"From JPL's Mailroom to Mars and Beyond\",\n",
       "  'Preview': 'Bill Allen has thrived as the mechanical systems design lead for three Mars rover missions, but he got his start as a teenager sorting letters for the NASA center.'},\n",
       " {'Title': \"NASA's Perseverance Rover Attached to Atlas V Rocket\",\n",
       "  'Preview': 'Ready for its launch later in the month, the Mars-bound rover will touch terra firma no more.'},\n",
       " {'Title': \"NASA's Mars 2020 Will Hunt for Microscopic Fossils\",\n",
       "  'Preview': \"A new paper identifies a ring of minerals at the rover's landing site that are ideal for fossilizing microbial life.\"},\n",
       " {'Title': \"NASA's Mars 2020 Comes Full Circle\",\n",
       "  'Preview': \"Aiming to pinpoint the Martian vehicle's center of gravity, engineers took NASA's 2,300-pound Mars 2020 rover for a spin in the clean room at JPL. \"},\n",
       " {'Title': \"How NASA's Mars Helicopter Will Reach the Red Planet's Surface\",\n",
       "  'Preview': 'The small craft will seek to prove that powered, controlled flight is possible on another planet. But just getting it onto the surface of Mars will take a whole lot of ingenuity.'},\n",
       " {'Title': \"NASA's Curiosity Takes Selfie With 'Mary Anning' on the Red Planet\",\n",
       "  'Preview': 'The Mars rover has drilled three samples of rock in this clay-enriched region since arriving in July.'}]"
      ]
     },
     "execution_count": 7,
     "metadata": {},
     "output_type": "execute_result"
    }
   ],
   "source": [
    "# Print the list of dictionaries\n",
    "news_list"
   ]
  },
  {
   "cell_type": "code",
   "execution_count": 8,
   "id": "5a9ae16d",
   "metadata": {},
   "outputs": [
    {
     "data": {
      "text/html": [
       "<div>\n",
       "<style scoped>\n",
       "    .dataframe tbody tr th:only-of-type {\n",
       "        vertical-align: middle;\n",
       "    }\n",
       "\n",
       "    .dataframe tbody tr th {\n",
       "        vertical-align: top;\n",
       "    }\n",
       "\n",
       "    .dataframe thead th {\n",
       "        text-align: right;\n",
       "    }\n",
       "</style>\n",
       "<table border=\"1\" class=\"dataframe\">\n",
       "  <thead>\n",
       "    <tr style=\"text-align: right;\">\n",
       "      <th></th>\n",
       "      <th>Title</th>\n",
       "      <th>Preview</th>\n",
       "    </tr>\n",
       "  </thead>\n",
       "  <tbody>\n",
       "    <tr>\n",
       "      <th>0</th>\n",
       "      <td>All About the Laser (and Microphone) Atop Mars...</td>\n",
       "      <td>SuperCam is a rock-vaporizing instrument that ...</td>\n",
       "    </tr>\n",
       "    <tr>\n",
       "      <th>1</th>\n",
       "      <td>NASA's Perseverance Rover Is Midway to Mars</td>\n",
       "      <td>Sometimes half measures can be a good thing – ...</td>\n",
       "    </tr>\n",
       "    <tr>\n",
       "      <th>2</th>\n",
       "      <td>The Man Who Wanted to Fly on Mars</td>\n",
       "      <td>The Mars Helicopter is riding to the Red Plane...</td>\n",
       "    </tr>\n",
       "    <tr>\n",
       "      <th>3</th>\n",
       "      <td>NASA Invites Public to Share Excitement of Mar...</td>\n",
       "      <td>There are lots of ways to participate in the h...</td>\n",
       "    </tr>\n",
       "    <tr>\n",
       "      <th>4</th>\n",
       "      <td>Common Questions about InSight's 'Mole'</td>\n",
       "      <td>The following Q&amp;As with members of the team an...</td>\n",
       "    </tr>\n",
       "    <tr>\n",
       "      <th>5</th>\n",
       "      <td>Join NASA for the Launch of the Mars 2020 Pers...</td>\n",
       "      <td>No matter where you live, choose from a menu o...</td>\n",
       "    </tr>\n",
       "    <tr>\n",
       "      <th>6</th>\n",
       "      <td>NASA's Perseverance Rover Goes Through Trials ...</td>\n",
       "      <td>The agency's new Mars rover is put through a s...</td>\n",
       "    </tr>\n",
       "    <tr>\n",
       "      <th>7</th>\n",
       "      <td>Space History Is Made in This NASA Robot Factory</td>\n",
       "      <td>From rockets to rovers, JPL's Spacecraft Assem...</td>\n",
       "    </tr>\n",
       "    <tr>\n",
       "      <th>8</th>\n",
       "      <td>InSight's 'Mole' Team Peers into the Pit</td>\n",
       "      <td>Efforts to save the heat probe continue.</td>\n",
       "    </tr>\n",
       "    <tr>\n",
       "      <th>9</th>\n",
       "      <td>From JPL's Mailroom to Mars and Beyond</td>\n",
       "      <td>Bill Allen has thrived as the mechanical syste...</td>\n",
       "    </tr>\n",
       "    <tr>\n",
       "      <th>10</th>\n",
       "      <td>NASA's Perseverance Rover Attached to Atlas V ...</td>\n",
       "      <td>Ready for its launch later in the month, the M...</td>\n",
       "    </tr>\n",
       "    <tr>\n",
       "      <th>11</th>\n",
       "      <td>NASA's Mars 2020 Will Hunt for Microscopic Fos...</td>\n",
       "      <td>A new paper identifies a ring of minerals at t...</td>\n",
       "    </tr>\n",
       "    <tr>\n",
       "      <th>12</th>\n",
       "      <td>NASA's Mars 2020 Comes Full Circle</td>\n",
       "      <td>Aiming to pinpoint the Martian vehicle's cente...</td>\n",
       "    </tr>\n",
       "    <tr>\n",
       "      <th>13</th>\n",
       "      <td>How NASA's Mars Helicopter Will Reach the Red ...</td>\n",
       "      <td>The small craft will seek to prove that powere...</td>\n",
       "    </tr>\n",
       "    <tr>\n",
       "      <th>14</th>\n",
       "      <td>NASA's Curiosity Takes Selfie With 'Mary Annin...</td>\n",
       "      <td>The Mars rover has drilled three samples of ro...</td>\n",
       "    </tr>\n",
       "  </tbody>\n",
       "</table>\n",
       "</div>"
      ],
      "text/plain": [
       "                                                Title  \\\n",
       "0   All About the Laser (and Microphone) Atop Mars...   \n",
       "1        NASA's Perseverance Rover Is Midway to Mars    \n",
       "2                   The Man Who Wanted to Fly on Mars   \n",
       "3   NASA Invites Public to Share Excitement of Mar...   \n",
       "4             Common Questions about InSight's 'Mole'   \n",
       "5   Join NASA for the Launch of the Mars 2020 Pers...   \n",
       "6   NASA's Perseverance Rover Goes Through Trials ...   \n",
       "7    Space History Is Made in This NASA Robot Factory   \n",
       "8            InSight's 'Mole' Team Peers into the Pit   \n",
       "9              From JPL's Mailroom to Mars and Beyond   \n",
       "10  NASA's Perseverance Rover Attached to Atlas V ...   \n",
       "11  NASA's Mars 2020 Will Hunt for Microscopic Fos...   \n",
       "12                 NASA's Mars 2020 Comes Full Circle   \n",
       "13  How NASA's Mars Helicopter Will Reach the Red ...   \n",
       "14  NASA's Curiosity Takes Selfie With 'Mary Annin...   \n",
       "\n",
       "                                              Preview  \n",
       "0   SuperCam is a rock-vaporizing instrument that ...  \n",
       "1   Sometimes half measures can be a good thing – ...  \n",
       "2   The Mars Helicopter is riding to the Red Plane...  \n",
       "3   There are lots of ways to participate in the h...  \n",
       "4   The following Q&As with members of the team an...  \n",
       "5   No matter where you live, choose from a menu o...  \n",
       "6   The agency's new Mars rover is put through a s...  \n",
       "7   From rockets to rovers, JPL's Spacecraft Assem...  \n",
       "8            Efforts to save the heat probe continue.  \n",
       "9   Bill Allen has thrived as the mechanical syste...  \n",
       "10  Ready for its launch later in the month, the M...  \n",
       "11  A new paper identifies a ring of minerals at t...  \n",
       "12  Aiming to pinpoint the Martian vehicle's cente...  \n",
       "13  The small craft will seek to prove that powere...  \n",
       "14  The Mars rover has drilled three samples of ro...  "
      ]
     },
     "execution_count": 8,
     "metadata": {},
     "output_type": "execute_result"
    }
   ],
   "source": [
    "# Create a DataFrame out of titles and previews\n",
    "news_df = pd.DataFrame(news_list)\n",
    "news_df"
   ]
  },
  {
   "cell_type": "code",
   "execution_count": 9,
   "id": "547a93a4",
   "metadata": {},
   "outputs": [],
   "source": [
    "# Export to JSON file\n",
    "news_df.to_json(os.path.join('Output','news_df.json'))"
   ]
  },
  {
   "cell_type": "code",
   "execution_count": 10,
   "id": "e1693812",
   "metadata": {},
   "outputs": [],
   "source": [
    "browser.quit()"
   ]
  }
 ],
 "metadata": {
  "kernelspec": {
   "display_name": "PythonData",
   "language": "python",
   "name": "pythondata"
  },
  "language_info": {
   "codemirror_mode": {
    "name": "ipython",
    "version": 3
   },
   "file_extension": ".py",
   "mimetype": "text/x-python",
   "name": "python",
   "nbconvert_exporter": "python",
   "pygments_lexer": "ipython3",
   "version": "3.9.4"
  }
 },
 "nbformat": 4,
 "nbformat_minor": 5
}
